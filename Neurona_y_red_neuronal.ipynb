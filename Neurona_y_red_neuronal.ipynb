{
  "nbformat": 4,
  "nbformat_minor": 0,
  "metadata": {
    "colab": {
      "name": "Neurona y red neuronal.ipynb",
      "provenance": [],
      "collapsed_sections": [],
      "include_colab_link": true
    },
    "kernelspec": {
      "name": "python3",
      "display_name": "Python 3"
    },
    "language_info": {
      "name": "python"
    }
  },
  "cells": [
    {
      "cell_type": "markdown",
      "metadata": {
        "id": "view-in-github",
        "colab_type": "text"
      },
      "source": [
        "<a href=\"https://colab.research.google.com/github/BlaeckHardt/Blaeck_Hardt/blob/main/Neurona_y_red_neuronal.ipynb\" target=\"_parent\"><img src=\"https://colab.research.google.com/assets/colab-badge.svg\" alt=\"Open In Colab\"/></a>"
      ]
    },
    {
      "cell_type": "markdown",
      "source": [
        "###REDES NEURONALES\n",
        "\n",
        "Años 40s: ¿por qué un pájarito es más inteligente que mi *super* computadora?\n",
        "\n",
        "Redes neuronales biológicas\n",
        "\n",
        "**Inteligencia artificial > Machine learning > Deep learning**"
      ],
      "metadata": {
        "id": "pzpSL4qhF9oT"
      }
    },
    {
      "cell_type": "code",
      "source": [
        "#NEURONA ARTIFICIAL\n",
        "\n",
        "import tensorflow as tf\n",
        "import numpy as np\n",
        "import matplotlib.pyplot as plt\n",
        "\n",
        "celsius=np.array([-40,-10,0,8,15,22,38], dtype=float)\n",
        "farenheit=np.array([-40,14,32,46,59,72,100],dtype=float)\n",
        "\n",
        "capa=tf.keras.layers.Dense(units=1, input_shape=[1]) #dense=capas\n",
        "modelo=tf.keras.Sequential([capa])\n",
        "\n",
        "modelo.compile(\n",
        "    optimizer=tf.keras.optimizers.Adam(0.1),\n",
        "    loss='mean_squared_error'\n",
        ")\n",
        "\n",
        "historial = modelo.fit(celsius, farenheit, epochs=1000, verbose=False)\n",
        "\n",
        "plt.xlabel(\"# de épocas\")\n",
        "plt.plot(historial.history[\"loss\"])\n",
        "\n",
        "#predicción\n",
        "resultado = modelo.predict([88.0])\n",
        "print(str(resultado))\n",
        "\n",
        "#variables internas del modelo\n",
        "print(capa.get_weights())"
      ],
      "metadata": {
        "colab": {
          "base_uri": "https://localhost:8080/",
          "height": 333
        },
        "id": "e7QLDcUIZ77m",
        "outputId": "1ef67721-d23f-402c-e01d-b9e5e3bb0f75"
      },
      "execution_count": null,
      "outputs": [
        {
          "output_type": "stream",
          "name": "stdout",
          "text": [
            "[[190.166]]\n",
            "[array([[1.7981505]], dtype=float32), array([31.92876], dtype=float32)]\n"
          ]
        },
        {
          "output_type": "display_data",
          "data": {
            "text/plain": [
              "<Figure size 432x288 with 1 Axes>"
            ],
            "image/png": "[encoded data removed]"
          },
          "metadata": {
            "needs_background": "light"
          }
        }
      ]
    },
    {
      "cell_type": "code",
      "source": [
        "#RED NEURONAL ARTIFICIAL\n",
        "\n",
        "import tensorflow as tf\n",
        "import numpy as np\n",
        "import matplotlib.pyplot as plt\n",
        "\n",
        "coso1=np.array([-40,-10,0,8,15,22,38], dtype=float)\n",
        "coso2=np.array([-40,14,32,46,59,72,100],dtype=float)\n",
        "\n",
        "oculta1=tf.keras.layers.Dense(units=3, input_shape=[1])\n",
        "oculta2=tf.keras.layers.Dense(units=3)\n",
        "salida=tf.keras.layers.Dense(units=1)\n",
        "modelo=tf.keras.Sequential([oculta1,oculta2,salida])\n",
        "\n",
        "modelo.compile(\n",
        "    optimizer=tf.keras.optimizers.Adam(0.1),\n",
        "    loss='mean_squared_error'\n",
        ")\n",
        "\n",
        "historial = modelo.fit(coso1, coso2, epochs=1000, verbose=False)\n",
        "\n",
        "plt.xlabel(\"# de épocas\")\n",
        "\n",
        "plt.plot(historial.history[\"loss\"])\n",
        "\n",
        "#predicción\n",
        "resultado = modelo.predict([99.0])\n",
        "print(str(resultado))\n",
        "\n",
        "#variables internas del modelo\n",
        "print(oculta1.get_weights())\n",
        "print(oculta2.get_weights())\n",
        "print(salida.get_weights())"
      ],
      "metadata": {
        "colab": {
          "base_uri": "https://localhost:8080/",
          "height": 434
        },
        "id": "b0l8e97UgnMb",
        "outputId": "e37bc007-d26b-49c5-876d-8fbf7b93f9ae"
      },
      "execution_count": null,
      "outputs": [
        {
          "output_type": "stream",
          "name": "stdout",
          "text": [
            "[[209.94942]]\n",
            "[array([[-0.13826978,  0.33393285, -0.8339885 ]], dtype=float32), array([ 3.1228526,  3.7570062, -4.094581 ], dtype=float32)]\n",
            "[array([[ 1.1001545 ,  0.07244235,  0.7746349 ],\n",
            "       [ 1.4042835 , -0.33160487, -0.03536561],\n",
            "       [-1.1151493 , -0.97863054,  0.24146079]], dtype=float32), array([ 4.5435863, -2.7538598, -3.421677 ], dtype=float32)]\n",
            "[array([[ 1.4923083 ],\n",
            "       [-0.41979554],\n",
            "       [-0.7156292 ]], dtype=float32), array([3.9357915], dtype=float32)]\n"
          ]
        },
        {
          "output_type": "display_data",
          "data": {
            "text/plain": [
              "<Figure size 432x288 with 1 Axes>"
            ],
            "image/png": "[encoded data removed]"
          },
          "metadata": {
            "needs_background": "light"
          }
        }
      ]
    },
    {
      "cell_type": "markdown",
      "source": [
        "Preceptron:\n",
        "* Una de las architecturas básicas de las redes neuronales\n",
        "* Componentes:\n",
        "  * capa de entrada\n",
        "  * capas ocultas\n",
        "  * capa de salida (regresión o clasificación)\n",
        "\n",
        "* Pueden ser lineares o no lineares"
      ],
      "metadata": {
        "id": "vGVF7o8UK34I"
      }
    }
  ]
}